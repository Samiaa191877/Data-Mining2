{
  "nbformat": 4,
  "nbformat_minor": 0,
  "metadata": {
    "colab": {
      "provenance": [],
      "authorship_tag": "ABX9TyMz8BGDg6V8+7WAEu1xHKQR",
      "include_colab_link": true
    },
    "kernelspec": {
      "name": "python3",
      "display_name": "Python 3"
    },
    "language_info": {
      "name": "python"
    }
  },
  "cells": [
    {
      "cell_type": "markdown",
      "metadata": {
        "id": "view-in-github",
        "colab_type": "text"
      },
      "source": [
        "<a href=\"https://colab.research.google.com/github/Samiaa191877/Data-Mining2/blob/main/Python_tutorial_1.ipynb\" target=\"_parent\"><img src=\"https://colab.research.google.com/assets/colab-badge.svg\" alt=\"Open In Colab\"/></a>"
      ]
    },
    {
      "cell_type": "markdown",
      "source": [
        "Simple variables"
      ],
      "metadata": {
        "id": "1OxCiXt1PySX"
      }
    },
    {
      "cell_type": "code",
      "source": [
        "#Basic arithmetic operations\n",
        "a = 10\n",
        "b = 5\n",
        "\n",
        "sum = a + b\n",
        "difference = a - b\n",
        "product = a * b\n",
        "division = a / b\n",
        "\n",
        "print(\"sum: \", sum)\n",
        "print(\"Difference: \", difference)\n",
        "print(\"product: \", product)\n",
        "print(\"Division: \", division)\n"
      ],
      "metadata": {
        "collapsed": true,
        "id": "SxYmSH_nw8f3",
        "colab": {
          "base_uri": "https://localhost:8080/"
        },
        "outputId": "5038ae68-2542-48c7-9f3b-0f582343653a"
      },
      "execution_count": null,
      "outputs": [
        {
          "output_type": "stream",
          "name": "stdout",
          "text": [
            "sum:  15\n",
            "Difference:  5\n",
            "product:  50\n",
            "Division:  2.0\n"
          ]
        }
      ]
    },
    {
      "cell_type": "code",
      "source": [
        "print(f\"The sum of the two numbers{a}' {b} is {sum}\")"
      ],
      "metadata": {
        "colab": {
          "base_uri": "https://localhost:8080/"
        },
        "id": "ISwIuwEJ6ut4",
        "outputId": "4cf70827-c3fc-4acc-b475-cb3028e28118"
      },
      "execution_count": null,
      "outputs": [
        {
          "output_type": "stream",
          "name": "stdout",
          "text": [
            "The sum of the two numbers10' 5 is 15\n"
          ]
        }
      ]
    },
    {
      "cell_type": "code",
      "source": [
        "x = 13 // 2\n",
        "print(x)\n",
        "\n",
        "y = 13 % 2\n",
        "print(y)"
      ],
      "metadata": {
        "id": "xyF33TdmVXPb",
        "colab": {
          "base_uri": "https://localhost:8080/"
        },
        "outputId": "473c6933-2aa2-464d-d439-220be7841a41"
      },
      "execution_count": null,
      "outputs": [
        {
          "output_type": "stream",
          "name": "stdout",
          "text": [
            "6\n",
            "1\n"
          ]
        }
      ]
    },
    {
      "cell_type": "code",
      "source": [
        "# Boolean variables and comparisons\n",
        "\n",
        "x = 10\n",
        "y = 5\n",
        "\n",
        "is_greater = x > y\n",
        "is_equa1 = x == y\n",
        "is_not_equa1 = x != y\n",
        "\n",
        "print(\"Is x greter than y?\", is_greater)\n",
        "print(\"Is x equa1 y?\", is_equa1)\n",
        "print(\"Is x not equa1 to y?\", is_not_equa1)"
      ],
      "metadata": {
        "colab": {
          "base_uri": "https://localhost:8080/"
        },
        "id": "KoyymSmqYPYK",
        "outputId": "1a1abd69-7c1f-43f9-891e-c9dd7d6c028e"
      },
      "execution_count": null,
      "outputs": [
        {
          "output_type": "stream",
          "name": "stdout",
          "text": [
            "Is x greter than y? True\n",
            "Is x equa1 y? False\n",
            "Is x not equa1 to y? True\n"
          ]
        }
      ]
    },
    {
      "cell_type": "code",
      "source": [
        "# variable assignment\n",
        "name = \"sami\"\n",
        "age = 55\n",
        "is_professor = True\n",
        "\n",
        "print (f\"{name}'s age is {age}. He is a professor is {is_professor}\")"
      ],
      "metadata": {
        "colab": {
          "base_uri": "https://localhost:8080/"
        },
        "id": "yqjaMYhudYWJ",
        "outputId": "973bd4aa-bf50-4b13-bcbd-a5163f6c8aae"
      },
      "execution_count": null,
      "outputs": [
        {
          "output_type": "stream",
          "name": "stdout",
          "text": [
            "sami's age is 55. He is a professor is True\n"
          ]
        }
      ]
    },
    {
      "cell_type": "code",
      "source": [
        "# Defining and using a function\n",
        "def greet(name):\n",
        "  return\"hello,\" + name + \"!\"\n",
        "  greet(\"sami\")\n",
        "  my_name =input(\"What is your name? \")\n",
        "\n",
        "\n",
        "\n",
        "\n"
      ],
      "metadata": {
        "id": "6NE9cbAWn17e",
        "collapsed": true
      },
      "execution_count": null,
      "outputs": []
    },
    {
      "cell_type": "code",
      "source": [
        "def add_number(a,b):\n",
        "  return a + b\n",
        "\n",
        "  a = int(input(\"enter first number:\"))\n",
        "  b = int(input(\"Enter second number:\"))\n",
        "  addition_va1ue =add_numbers(a,b)\n",
        "  print(f\"the resut of addition for {a},{b} is {addition_va1ue}\")\n"
      ],
      "metadata": {
        "id": "9rN7Ev1ppcYQ"
      },
      "execution_count": null,
      "outputs": []
    },
    {
      "cell_type": "code",
      "source": [
        "def add_numbers(a,b):\n",
        "  return a+b\n",
        "\n",
        "a= eval(input(\"Enter first number:\"))\n",
        "b= eval(input(\"Enter second number: \"))\n",
        "addition_va1ue =add_numbers(a,b)\n",
        "print(f\"the resut of addition for {a},{b} is {addition_va1ue}\")"
      ],
      "metadata": {
        "colab": {
          "base_uri": "https://localhost:8080/"
        },
        "id": "fvaylVfny0hS",
        "outputId": "3bebebbe-fa0f-4a28-ef3f-b30547256ff9"
      },
      "execution_count": null,
      "outputs": [
        {
          "output_type": "stream",
          "name": "stdout",
          "text": [
            "Enter first number:-4.5\n",
            "Enter second number: 10\n",
            "the resut of addition for -4.5,10 is 5.5\n"
          ]
        }
      ]
    },
    {
      "cell_type": "code",
      "source": [
        "#working with sittng\n",
        "message =\"Hello,world\"\n",
        "length =len(message)\n",
        "uppercase = message.upper()\n",
        "lowercase = message.lower()\n",
        "substing = message[7:12]\n",
        "\n",
        "print(\"original message:\",message)\n",
        "print(\"The length is:\",length)\n",
        "print(\"Uppe case:\",uppercase)\n",
        "print(\"Lower case:\",lowercase)\n",
        "print(\"part of the messageis:\",substing)"
      ],
      "metadata": {
        "id": "_vlu7Bl05OUF",
        "colab": {
          "base_uri": "https://localhost:8080/"
        },
        "outputId": "7354db53-7cb2-4194-a796-5933805a4d45"
      },
      "execution_count": null,
      "outputs": [
        {
          "output_type": "stream",
          "name": "stdout",
          "text": [
            "original message: Hello,world\n",
            "The length is: 11\n",
            "Uppe case: HELLO,WORLD\n",
            "Lower case: hello,world\n",
            "part of the messageis: orld\n"
          ]
        }
      ]
    },
    {
      "cell_type": "code",
      "source": [
        "#Basic input example\n",
        "Last = input(\"Enter the last name :\")\n",
        "First = input(\"Enter the first name :\")\n",
        "print (f\"{Last},{First}\")"
      ],
      "metadata": {
        "colab": {
          "base_uri": "https://localhost:8080/"
        },
        "id": "w9P4TDIvA9JB",
        "outputId": "daacd406-f813-4f47-ba72-431aec411f37"
      },
      "execution_count": null,
      "outputs": [
        {
          "output_type": "stream",
          "name": "stdout",
          "text": [
            "Enter the last name :Sami ALamrani\n",
            "Enter the first name :Sami\n",
            "Sami ALamrani,Sami\n"
          ]
        }
      ]
    },
    {
      "cell_type": "code",
      "source": [
        "#Numeric input example\n",
        "age=int(input(\"Enter your age :\"))\n",
        "print(\"you will be \",age+1, \"years old next year.\")"
      ],
      "metadata": {
        "colab": {
          "base_uri": "https://localhost:8080/"
        },
        "id": "kTsHt9DoP3V3",
        "outputId": "41ac9860-1073-4bcf-d6f6-08e2c8799664"
      },
      "execution_count": null,
      "outputs": [
        {
          "output_type": "stream",
          "name": "stdout",
          "text": [
            "Enter your age :33\n",
            "you will be  34 years old next year.\n"
          ]
        }
      ]
    },
    {
      "cell_type": "code",
      "source": [
        "#Calculations with input\n",
        "num1 =float(input(\"Enter a number:\"))\n",
        "num2 =float(input(\"Enter another number:\"))\n",
        "sum_result= num1 + num2\n",
        "print(\"sum:\",sum_result)"
      ],
      "metadata": {
        "colab": {
          "base_uri": "https://localhost:8080/"
        },
        "id": "RB30PklESBQb",
        "outputId": "fd4aae09-044a-4d6d-9815-8cbe65daf103"
      },
      "execution_count": null,
      "outputs": [
        {
          "output_type": "stream",
          "name": "stdout",
          "text": [
            "Enter a number:12\n",
            "Enter another number:14\n",
            "sum: 26.0\n"
          ]
        }
      ]
    },
    {
      "cell_type": "code",
      "source": [
        "#string concatenation with input\n",
        "city = input(\"Enter your city : \")\n",
        "country = input(\"Enter your cantry: \")\n",
        "location = city +\",\" + country\n",
        "print(\"you are in :\",location)"
      ],
      "metadata": {
        "colab": {
          "base_uri": "https://localhost:8080/"
        },
        "id": "tllnPEHDdAti",
        "outputId": "95dc07a3-12db-4e2a-e5c6-ae4a97448377"
      },
      "execution_count": null,
      "outputs": [
        {
          "output_type": "stream",
          "name": "stdout",
          "text": [
            "Enter your city : New Haven\n",
            "Enter your cantry: USA\n",
            "you are in : New Haven,USA\n"
          ]
        }
      ]
    },
    {
      "cell_type": "code",
      "source": [
        "# Multiple inputs\n",
        "name, age = input(\"Enter your name and age sperated by space:\").split()\n",
        "print(f\"my name is {name} and my age is {age}\")\n",
        "\n",
        "\n",
        "\n",
        "\n"
      ],
      "metadata": {
        "id": "icN3JgTtf1HT",
        "colab": {
          "base_uri": "https://localhost:8080/"
        },
        "outputId": "6fd6bd58-daf8-48ed-9546-d235ebd0f72a"
      },
      "execution_count": null,
      "outputs": [
        {
          "output_type": "stream",
          "name": "stdout",
          "text": [
            "Enter your name and age sperated by space:Sami 33\n",
            "my name is Sami and my age is 33\n"
          ]
        }
      ]
    }
  ]
}